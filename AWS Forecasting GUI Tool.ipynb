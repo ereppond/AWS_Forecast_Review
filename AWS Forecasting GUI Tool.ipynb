{
 "cells": [
  {
   "cell_type": "markdown",
   "metadata": {},
   "source": [
    "# Walk-Through of Amazon Forecast\n",
    "This notebook is an overview of the functionality of the Amazon Forecast tool. Click [here](https://aws.amazon.com/forecast/) for the homepage. \n",
    "![How it works](https://d1.awsstatic.com/r2018/r/seer/diagrams/Seer_HowitWorks_Final.44b02658b17d05e9242b450b220f6e0ca4065638.png)"
   ]
  },
  {
   "cell_type": "markdown",
   "metadata": {},
   "source": [
    "<br> Features include:\n",
    "* Automated machine learning\n",
    "* Based on technology used at Amazon.com\n",
    "* Simple evaluation of the accuracy of models\n",
    "* Visualizations of forecasts\n",
    "* Integration with existing tools\n",
    "* Generation of probabilistic forecasts"
   ]
  },
  {
   "cell_type": "markdown",
   "metadata": {},
   "source": [
    "Access the tool using:\n",
    "* AWS CLI\n",
    "* Python Notebook\n",
    "    * Demonstration of Amazon Forecast notebooks can be found [here](https://github.com/aws-samples/amazon-forecast-samples).\n",
    "* Console\n",
    "    * GUI of the tool"
   ]
  },
  {
   "cell_type": "markdown",
   "metadata": {},
   "source": [
    "## Using the Console"
   ]
  },
  {
   "cell_type": "markdown",
   "metadata": {},
   "source": [
    "### Step 1 : Import Training Data\n",
    "1. Create dataset group\n",
    "> This step was easy to follow. I used the domain called \"Metric\", which represented revenue and sales data.\n",
    "![](pictures/dataset_group.png?raw=true \"Title\")\n",
    "For link to image, click [here](https://github.com/ereppond/AWS_Forecast_Review/blob/master/pictures/dataset_group.PNG)."
   ]
  },
  {
   "attachments": {},
   "cell_type": "markdown",
   "metadata": {},
   "source": [
    "2. Specify dataset details\n",
    "> Although the explantion of each field is clear, the data being used for the model must follow the schema as shown in the example, which means the order of the columns must be the same as the order of the schema.\n",
    "![](pictures/dataset_details.png?raw=true)\n",
    "For link to image, click [here](https://github.com/ereppond/AWS_Forecast_Review/blob/master/pictures/dataset_details.PNG)."
   ]
  },
  {
   "cell_type": "markdown",
   "metadata": {},
   "source": [
    "3. Import the time series data from S3 bucket\n",
    "> This page was nice because it was straight forward in that it allows you to simply reference the path to the data in your S3 bucket and the Role ARN to retrieve the data. You also have the option of having the tool create an IAM role for the purpose of forecasting on this page if one is not already created. \n",
    "> * IAM role – Keep the default Enter a custom IAM role ARN.\n",
    "> * Alternatively, you can have Amazon Forecast create the required IAM role for you by choosing Create a new role from the drop-down menu and following the on-screen instructions.\n",
    "![](pictures/import_time_series_data.png?raw=true \"Title\")\n",
    "For link to image, click [here](https://github.com/ereppond/AWS_Forecast_Review/blob/master/pictures/import_time_series_data.PNG)."
   ]
  },
  {
   "cell_type": "markdown",
   "metadata": {},
   "source": [
    "4. Start the import\n",
    "> Clicking start import begins the importing process, which took about 3 minutes for a dataset of ~10,000 rows. \n",
    "<br> Once the data has been imported, the following banner should appear. ![pic6](https://docs.aws.amazon.com/forecast/latest/dg/images/gs-step1-imported-banner.png)"
   ]
  },
  {
   "cell_type": "markdown",
   "metadata": {},
   "source": [
    "5. OPTIONAL - add metadata and/or related time series data\n",
    "> If desired, you may include additional data for the model to train on, but unfortunately you must upload it as an entirely separate dataframe from the original time series data. <br>\n",
    "> * item metadata refers to some feature associated with the 'metric_name' attribute\n",
    "> * related time series data refers to another dataset with a timestamp object that is not the target data"
   ]
  },
  {
   "cell_type": "markdown",
   "metadata": {},
   "source": [
    "### Step 2 : Train a predictor"
   ]
  },
  {
   "cell_type": "markdown",
   "metadata": {},
   "source": [
    "1. Specify the parameters of the model\n",
    "> Documentation on this step is clear. \n",
    "> * algorithm selection allows you to either have the automated algorithm, or choose your own algorithm from the following: \n",
    "     * [ARIMA](https://docs.aws.amazon.com/forecast/latest/dg/aws-forecast-recipe-arima.html)\n",
    "     * [DeepAR+ Algorithm](https://docs.aws.amazon.com/forecast/latest/dg/aws-forecast-recipe-deeparplus.html)\n",
    "     * [Exponential Smoothing Algorithm](https://docs.aws.amazon.com/forecast/latest/dg/aws-forecast-recipe-ets.html)\n",
    "     * [Non-Parametric Time Series Algorithm](https://docs.aws.amazon.com/forecast/latest/dg/aws-forecast-recipe-npts.html)\n",
    "     * [Prophet](https://docs.aws.amazon.com/forecast/latest/dg/aws-forecast-recipe-prophet.html)\n",
    "![](pictures/train_predictor.png?raw=true \"Title\")\n",
    "For link to image, click [here](https://github.com/ereppond/AWS_Forecast_Review/blob/master/pictures/train_predictor.PNG)."
   ]
  },
  {
   "cell_type": "markdown",
   "metadata": {},
   "source": [
    "> **Note**: This can take a long time to train depending on the algorithm and amount of data. For a dataset of ~10,000 rows using the AutoML approach, it took around 30-40 minutes. "
   ]
  },
  {
   "cell_type": "markdown",
   "metadata": {},
   "source": [
    "### Step 3 : Create a forecast"
   ]
  },
  {
   "cell_type": "markdown",
   "metadata": {},
   "source": [
    "At this point, your dashboard for this dataset group should look like this: ![](https://docs.aws.amazon.com/forecast/latest/dg/images/gs-step3-trained.png)"
   ]
  },
  {
   "cell_type": "markdown",
   "metadata": {},
   "source": [
    "1. Create a forecast\n",
    "> Once you've clicked the 'Start' button, you will be brought to this page:\n",
    "![](pictures/forecast_details.png?raw=true \"Title\")\n",
    "For link to image, click [here](https://github.com/ereppond/AWS_Forecast_Review/blob/master/pictures/forecast_details.PNG).\n",
    "\n",
    "\n",
    "> Here your predictor is likely either an AutoML, Prophet, or one of the other modeling options you built your forecast with. Once you click 'Create a forecast', the forecast should be done within minutes. <br> This image will appear on your screen with the forecast is done. ![](https://docs.aws.amazon.com/forecast/latest/dg/images/gs-step3-created-banner.png)"
   ]
  },
  {
   "cell_type": "markdown",
   "metadata": {},
   "source": [
    "### Step 4 : Forecast Lookup\n",
    "> Since we want to look at an item in our data that has a lot of data, we will get the forecast for the most common value. ![](pictures/value_counts.png?raw=true \"Title\")\n",
    "For link to image, click [here](https://github.com/ereppond/AWS_Forecast_Review/blob/master/pictures/value_counts.PNG).\n",
    "\n",
    "> At this step, you can see the prediction of the data. The details required for this step are specified here: ![](pictures/forecast_lookup_details.png?raw=true \"Title\")\n",
    "For link to image, click [here](https://github.com/ereppond/AWS_Forecast_Review/blob/master/pictures/forecast_lookup_details.PNG).\n",
    "\n",
    "> Even though the Start date and End date boxes have any date as an option to choose from, this page will not submit without times that work for your data. The timeframe in which you can see is very limited. "
   ]
  },
  {
   "cell_type": "markdown",
   "metadata": {},
   "source": [
    "> ![](pictures/forecast_visuals.png?raw=true \"Title\")\n",
    "For link to image, click [here](https://github.com/ereppond/AWS_Forecast_Review/blob/master/pictures/forecast_visuals.PNG)."
   ]
  },
  {
   "cell_type": "markdown",
   "metadata": {},
   "source": [
    "### Understanding the Forecast\n",
    "> At a first glance, the visual representation of the forecast is not simple to understand because there is not any explanation of what **P10**, **P50**, and **P90** mean. After looking through the documentation, here is what I found: \n",
    "\n",
    "\n",
    "**wQuantileLoss[0.1]**: For the P10 prediction, the true value is expected to be lower than the predicted value 10% of the time.\n",
    "\n",
    "For example, suppose that you're a retailer and you want to forecast product demand for winter gloves that sell well only during the fall and winter. If you don't have a lot of storage space and the cost of invested capital is high, or if the price of being overstocked on winter gloves concerns you, you might use the P10 quantile to order a relatively low number of winter gloves. You know that the P10 forecast overestimates the demand for your winter gloves only 10% of the time, so 90% of the time you'll be sold out of your winter gloves.\n",
    "\n",
    "**wQuantileLoss[0.5]**: For the P50 prediction, the true value is expected to be lower than the predicted value 50% of the time. In most cases, the point forecasts that you generate internally or with other forecasting tools should match the P50 forecasts. If τ = 0.5, both weights are equal and the wQuantileLoss[0.5] reduces to the commonly used Mean Absolute Percentage Error (MAPE):\n",
    "\n",
    "\n",
    "where ŷi,t = qi,t(0.5).\n",
    "\n",
    "Forecast uses the scaling factor of 2 in the wQuantileLoss formula to cancel the 0.5 factor to obtain the exact MAPE expression.\n",
    "\n",
    "Continuing the winter gloves example, if you know that there'll be a moderate amount of demand for the gloves and aren't concerned about being overstocked, you might choose to use the P50 quantile to order gloves.\n",
    "\n",
    "**wQuantileLoss[0.9]**: For the P90 prediction, the true value is expected to be lower than the predicted value 90% of the time.\n",
    "\n",
    "If you determine that being understocked on gloves will result in huge amounts of lost revenue—for example, the cost of not selling gloves is extremely high or the cost of invested capital is low—you might choose to use the P90 quantile to order gloves.\n",
    "\n",
    "The following figure of a forecast that has a Gaussian distribution, shows the quantiles that divide the forecast into four regions of equal probability.\n",
    "\n",
    "![pic12](https://docs.aws.amazon.com/forecast/latest/dg/images/metrics-gaussian.png)"
   ]
  },
  {
   "cell_type": "markdown",
   "metadata": {},
   "source": [
    "> Unfortunately, even with the explanation of the forecasts, the visual representation of the forecast does not show us how the model performed on the validation dataset. \n",
    "\n",
    "> Overall, this tool would be useful if the end results were clearer, but since the forecasts don't help explain the data well, I would not use this tool again. "
   ]
  },
  {
   "cell_type": "code",
   "execution_count": null,
   "metadata": {},
   "outputs": [],
   "source": []
  }
 ],
 "metadata": {
  "kernelspec": {
   "display_name": "Python 3",
   "language": "python",
   "name": "python3"
  },
  "language_info": {
   "codemirror_mode": {
    "name": "ipython",
    "version": 3
   },
   "file_extension": ".py",
   "mimetype": "text/x-python",
   "name": "python",
   "nbconvert_exporter": "python",
   "pygments_lexer": "ipython3",
   "version": "3.7.3"
  }
 },
 "nbformat": 4,
 "nbformat_minor": 2
}
